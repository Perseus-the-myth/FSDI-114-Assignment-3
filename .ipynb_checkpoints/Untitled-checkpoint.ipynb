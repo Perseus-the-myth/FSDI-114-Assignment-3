{
 "cells": [
  {
   "cell_type": "code",
   "execution_count": null,
   "id": "c1ac6325",
   "metadata": {},
   "outputs": [],
   "source": [
    "class Stack:\n",
    "    def__init__(self):\n",
    "        self.items = []\n",
    "        \n",
    "    def is_empty(self):\n",
    "        return self.items == [ ]\n",
    "    \n",
    "    def push(self, item):\n",
    "        self.items.append(item)\n",
    "        \n",
    "    def pop(self):\n",
    "        return self.items[len(self.items)-1]\n",
    "    \n",
    "    def peek(self):\n",
    "        return self.items[len(self.items)-1]\n",
    "    \n",
    "    def size (self):\n",
    "        return len(self.items)\n",
    "    "
   ]
  },
  {
   "cell_type": "code",
   "execution_count": null,
   "id": "f9d119ca",
   "metadata": {},
   "outputs": [],
   "source": [
    "#invert(my_string) -> my_string = MIKE\n",
    "#line: create stack\n",
    "#first loop: iteration_1: letter = R; stack = ['R']\n",
    "    #iteration_2: letter = A; stack = ['R', 'A']\n",
    "    #iteration_3; letter = F; stack = ['R', 'A', 'F']"
   ]
  },
  {
   "cell_type": "code",
   "execution_count": null,
   "id": "2fb96cd3",
   "metadata": {},
   "outputs": [],
   "source": [
    "class Queue:\n",
    "    def__init__(self):\n",
    "        self.items = []\n",
    "        \n",
    "    def is_empty(self):\n",
    "        return self.items == [ ]\n",
    "    \n",
    "    def enqueue(self, item):\n",
    "        self.items.insert(0, item)\n",
    "        \n",
    "    def dequeue(self):\n",
    "        return self.items.pop()\n",
    "    def size(self)\n",
    "        return len(self.items)"
   ]
  },
  {
   "cell_type": "code",
   "execution_count": null,
   "id": "fea215b3",
   "metadata": {},
   "outputs": [],
   "source": [
    "def invert_string(myString):\n",
    "    stack = Stack()\n",
    "    for letter in myString:\n",
    "        stack.push(letter)\n",
    "    out_str = \"\"\n",
    "    #loop until the stack is empty\n",
    "    #and append each character resulting from pop operatiion to \"out_str\"\n",
    "    while not stack.is_empty():\n",
    "        #out_str = out_str = stack.pop()\n",
    "        out_str += stack.pop()\n",
    "    return out_str\n",
    "        \n",
    "        \n",
    "    \n",
    "    if () = push(string)\n",
    "return (string) = string(pop)"
   ]
  },
  {
   "cell_type": "code",
   "execution_count": null,
   "id": "4523d22b",
   "metadata": {},
   "outputs": [],
   "source": [
    "def reverse():\n",
    "    for (abcde) = push[i]++1:\n",
    "    if (abcde):\n",
    "    else(ok):\n",
    "return (abcde)= pop[i]-1"
   ]
  },
  {
   "cell_type": "code",
   "execution_count": null,
   "id": "5b22e8a3",
   "metadata": {},
   "outputs": [],
   "source": [
    "#given a string: \"abcde\", invert it so that we get \"edcba\"\n",
    "#constraint: must use the stack class above"
   ]
  }
 ],
 "metadata": {
  "kernelspec": {
   "display_name": "Python 3 (ipykernel)",
   "language": "python",
   "name": "python3"
  },
  "language_info": {
   "codemirror_mode": {
    "name": "ipython",
    "version": 3
   },
   "file_extension": ".py",
   "mimetype": "text/x-python",
   "name": "python",
   "nbconvert_exporter": "python",
   "pygments_lexer": "ipython3",
   "version": "3.10.1"
  }
 },
 "nbformat": 4,
 "nbformat_minor": 5
}
