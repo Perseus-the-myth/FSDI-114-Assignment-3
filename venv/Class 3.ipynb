{
 "cells": [
  {
   "cell_type": "markdown",
   "id": "5265cd0b",
   "metadata": {},
   "source": [
    "#Balanced parentheses check\n",
    "\n",
    "Given a string of opening and closing parentheses, check whether it is balanced.\n",
    "We have 3 types of parentheses: round (), square [] and curly {}.\n",
    "\n",
    "Assumptions: Parameter string doesn't contain any other characters other than these(no spaces, words or numbers).\n",
    "Balanced parentheses require every opening parentheses to be closed in the reverse order opened.\n",
    "\n",
    "## examples: ([]) is balanced, ([)] is not balanced. \n",
    "\n",
    "instructions:\n",
    "\n",
    "Create a function called balance_check that takes a parameter \"s\". balance_check(\"()\") should return True.\n",
    "\n"
   ]
  },
  {
   "cell_type": "code",
   "execution_count": null,
   "id": "30fe6d44",
   "metadata": {},
   "outputs": [],
   "source": [
    "def balance_check(s)\n",
    "    for \"s\"\n",
    "        if \"s\"== [({})]\n",
    "            print True\n",
    "        elif \"s\" == ({[)}]\n",
    "            print False\n",
    "                      \n",
    "    #if the first character is an opening parentheses \n",
    "        #valid_matches = [(\"()\")], (\"[\",\"]\"), \n",
    "                      \n",
    "    #stack = new Stack() # create an instance of Stack ()\n",
    "    #for each character in s:\n",
    "        #if the character is an opening parentheses:\n",
    "            #stack.push(character)\n",
    "        #else:\n",
    "            #last_parantheses = stack.pop()\n",
    "            #if (last_parentheses, character) not in valid_matches:\n",
    "                #return False\n",
    "        #return True if stack is empty, False otherwise\n",
    "            \n",
    "\n",
    "def balance_check(s):\n",
    "    pass \n"
   ]
  },
  {
   "cell_type": "code",
   "execution_count": null,
   "id": "955f7d71",
   "metadata": {},
   "outputs": [],
   "source": [
    " class stack\n",
    "        def balance_check(s):\n",
    "           s.items = [({\n",
    "           \n",
    "        def is_empty(s):\n",
    "          return s.items \n",
    "        \n",
    "        def push(s, item):\n",
    "           s.items.append(item)\n",
    "        \n",
    "        def pop(s):\n",
    "            return s.items[len(s.items)-1]\n",
    "       \n",
    "        def peek(self):\n",
    "            return s.items[len(s.items)-1]\n",
    "        def size (s):\n",
    "           return len(s.items)"
   ]
  },
  {
   "cell_type": "markdown",
   "id": "f29160d0",
   "metadata": {},
   "source": [
    "##Queue "
   ]
  },
  {
   "cell_type": "code",
   "execution_count": null,
   "id": "7d7a7614",
   "metadata": {},
   "outputs": [],
   "source": [
    "assert balance_check(\"([{}])\")== True\n",
    "assert balance_check(\"(((())))\")== False\n",
    "assert balance_check(\"()()\")== True"
   ]
  }
 ],
 "metadata": {
  "kernelspec": {
   "display_name": "Python 3 (ipykernel)",
   "language": "python",
   "name": "python3"
  },
  "language_info": {
   "codemirror_mode": {
    "name": "ipython",
    "version": 3
   },
   "file_extension": ".py",
   "mimetype": "text/x-python",
   "name": "python",
   "nbconvert_exporter": "python",
   "pygments_lexer": "ipython3",
   "version": "3.10.1"
  }
 },
 "nbformat": 4,
 "nbformat_minor": 5
}
